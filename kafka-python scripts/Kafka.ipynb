{
 "cells": [
  {
   "cell_type": "markdown",
   "metadata": {},
   "source": [
    "# Sending data to Kafka using python"
   ]
  },
  {
   "cell_type": "code",
   "execution_count": 156,
   "metadata": {},
   "outputs": [],
   "source": [
    "!pip install kafka\n",
    "!pip install kafka-python\n",
    "!pip install confluent-kafka"
   ]
  },
  {
   "cell_type": "code",
   "execution_count": 157,
   "metadata": {},
   "outputs": [],
   "source": [
    "from kafka import KafkaProducer\n",
    "import pandas as pd\n",
    "import json\n",
    "pd.set_option('display.max_columns', None)"
   ]
  },
  {
   "cell_type": "markdown",
   "metadata": {},
   "source": [
    "# Data is been sorted in proper format"
   ]
  },
  {
   "cell_type": "code",
   "execution_count": 158,
   "metadata": {
    "scrolled": true
   },
   "outputs": [
    {
     "name": "stdout",
     "output_type": "stream",
     "text": [
      "Wall time: 144 ms\n"
     ]
    },
    {
     "data": {
      "text/html": [
       "<div>\n",
       "<style scoped>\n",
       "    .dataframe tbody tr th:only-of-type {\n",
       "        vertical-align: middle;\n",
       "    }\n",
       "\n",
       "    .dataframe tbody tr th {\n",
       "        vertical-align: top;\n",
       "    }\n",
       "\n",
       "    .dataframe thead th {\n",
       "        text-align: right;\n",
       "    }\n",
       "</style>\n",
       "<table border=\"1\" class=\"dataframe\">\n",
       "  <thead>\n",
       "    <tr style=\"text-align: right;\">\n",
       "      <th></th>\n",
       "      <th>timestamp</th>\n",
       "      <th>type</th>\n",
       "      <th>name</th>\n",
       "      <th>ip</th>\n",
       "      <th>mac</th>\n",
       "      <th>latlon</th>\n",
       "      <th>ip4</th>\n",
       "      <th>ip6</th>\n",
       "      <th>lon</th>\n",
       "      <th>lat</th>\n",
       "      <th>deviceHash</th>\n",
       "      <th>incomingPkts</th>\n",
       "      <th>outgoingPkts</th>\n",
       "      <th>internalPkts</th>\n",
       "      <th>totalPkts</th>\n",
       "      <th>totalExternalPkts</th>\n",
       "      <th>incomingBytes</th>\n",
       "      <th>outgoingBytes</th>\n",
       "      <th>internalBytes</th>\n",
       "      <th>totalBytes</th>\n",
       "      <th>totalExternalBytes</th>\n",
       "    </tr>\n",
       "  </thead>\n",
       "  <tbody>\n",
       "    <tr>\n",
       "      <th>0</th>\n",
       "      <td>1646893713217</td>\n",
       "      <td>Client</td>\n",
       "      <td>icmp</td>\n",
       "      <td>10.236.141.200</td>\n",
       "      <td>04b0e711fc18</td>\n",
       "      <td>NaN</td>\n",
       "      <td>183274952</td>\n",
       "      <td>NaN</td>\n",
       "      <td>NaN</td>\n",
       "      <td>NaN</td>\n",
       "      <td>NaN</td>\n",
       "      <td>0</td>\n",
       "      <td>25</td>\n",
       "      <td>0</td>\n",
       "      <td>25</td>\n",
       "      <td>25</td>\n",
       "      <td>0</td>\n",
       "      <td>2186</td>\n",
       "      <td>0</td>\n",
       "      <td>2186</td>\n",
       "      <td>2186</td>\n",
       "    </tr>\n",
       "    <tr>\n",
       "      <th>1</th>\n",
       "      <td>1646893713217</td>\n",
       "      <td>Server</td>\n",
       "      <td>icmp</td>\n",
       "      <td>194.48.132.18</td>\n",
       "      <td>None</td>\n",
       "      <td>NaN</td>\n",
       "      <td>-1037007854</td>\n",
       "      <td>NaN</td>\n",
       "      <td>NaN</td>\n",
       "      <td>NaN</td>\n",
       "      <td>NaN</td>\n",
       "      <td>25</td>\n",
       "      <td>0</td>\n",
       "      <td>0</td>\n",
       "      <td>25</td>\n",
       "      <td>25</td>\n",
       "      <td>2186</td>\n",
       "      <td>0</td>\n",
       "      <td>0</td>\n",
       "      <td>2186</td>\n",
       "      <td>2186</td>\n",
       "    </tr>\n",
       "    <tr>\n",
       "      <th>2</th>\n",
       "      <td>1646893713217</td>\n",
       "      <td>Client</td>\n",
       "      <td>unknown</td>\n",
       "      <td>10.110.19.88</td>\n",
       "      <td>fa163ea3e5a6</td>\n",
       "      <td>NaN</td>\n",
       "      <td>174986072</td>\n",
       "      <td>NaN</td>\n",
       "      <td>NaN</td>\n",
       "      <td>NaN</td>\n",
       "      <td>NaN</td>\n",
       "      <td>0</td>\n",
       "      <td>0</td>\n",
       "      <td>2006762</td>\n",
       "      <td>2006762</td>\n",
       "      <td>0</td>\n",
       "      <td>0</td>\n",
       "      <td>0</td>\n",
       "      <td>215466404</td>\n",
       "      <td>215466404</td>\n",
       "      <td>0</td>\n",
       "    </tr>\n",
       "    <tr>\n",
       "      <th>3</th>\n",
       "      <td>1646893713217</td>\n",
       "      <td>Client</td>\n",
       "      <td>unknown</td>\n",
       "      <td>10.115.128.2</td>\n",
       "      <td>04b0e711fc06</td>\n",
       "      <td>NaN</td>\n",
       "      <td>175341570</td>\n",
       "      <td>NaN</td>\n",
       "      <td>NaN</td>\n",
       "      <td>NaN</td>\n",
       "      <td>NaN</td>\n",
       "      <td>0</td>\n",
       "      <td>0</td>\n",
       "      <td>22</td>\n",
       "      <td>22</td>\n",
       "      <td>0</td>\n",
       "      <td>0</td>\n",
       "      <td>0</td>\n",
       "      <td>1484</td>\n",
       "      <td>1484</td>\n",
       "      <td>0</td>\n",
       "    </tr>\n",
       "    <tr>\n",
       "      <th>4</th>\n",
       "      <td>1646893713217</td>\n",
       "      <td>Client</td>\n",
       "      <td>unknown</td>\n",
       "      <td>10.115.128.1</td>\n",
       "      <td>04b0e711fc06</td>\n",
       "      <td>NaN</td>\n",
       "      <td>175341569</td>\n",
       "      <td>NaN</td>\n",
       "      <td>NaN</td>\n",
       "      <td>NaN</td>\n",
       "      <td>NaN</td>\n",
       "      <td>0</td>\n",
       "      <td>0</td>\n",
       "      <td>71</td>\n",
       "      <td>71</td>\n",
       "      <td>0</td>\n",
       "      <td>0</td>\n",
       "      <td>0</td>\n",
       "      <td>3879</td>\n",
       "      <td>3879</td>\n",
       "      <td>0</td>\n",
       "    </tr>\n",
       "    <tr>\n",
       "      <th>...</th>\n",
       "      <td>...</td>\n",
       "      <td>...</td>\n",
       "      <td>...</td>\n",
       "      <td>...</td>\n",
       "      <td>...</td>\n",
       "      <td>...</td>\n",
       "      <td>...</td>\n",
       "      <td>...</td>\n",
       "      <td>...</td>\n",
       "      <td>...</td>\n",
       "      <td>...</td>\n",
       "      <td>...</td>\n",
       "      <td>...</td>\n",
       "      <td>...</td>\n",
       "      <td>...</td>\n",
       "      <td>...</td>\n",
       "      <td>...</td>\n",
       "      <td>...</td>\n",
       "      <td>...</td>\n",
       "      <td>...</td>\n",
       "      <td>...</td>\n",
       "    </tr>\n",
       "    <tr>\n",
       "      <th>13617</th>\n",
       "      <td>1646893713217</td>\n",
       "      <td>Server</td>\n",
       "      <td>unknown</td>\n",
       "      <td>10.131.211.1</td>\n",
       "      <td>None</td>\n",
       "      <td>NaN</td>\n",
       "      <td>176411393</td>\n",
       "      <td>NaN</td>\n",
       "      <td>NaN</td>\n",
       "      <td>NaN</td>\n",
       "      <td>NaN</td>\n",
       "      <td>0</td>\n",
       "      <td>0</td>\n",
       "      <td>387</td>\n",
       "      <td>387</td>\n",
       "      <td>0</td>\n",
       "      <td>0</td>\n",
       "      <td>0</td>\n",
       "      <td>43026</td>\n",
       "      <td>43026</td>\n",
       "      <td>0</td>\n",
       "    </tr>\n",
       "    <tr>\n",
       "      <th>13618</th>\n",
       "      <td>1646893713217</td>\n",
       "      <td>Server</td>\n",
       "      <td>unknown</td>\n",
       "      <td>10.131.199.162</td>\n",
       "      <td>None</td>\n",
       "      <td>NaN</td>\n",
       "      <td>176408482</td>\n",
       "      <td>NaN</td>\n",
       "      <td>NaN</td>\n",
       "      <td>NaN</td>\n",
       "      <td>NaN</td>\n",
       "      <td>0</td>\n",
       "      <td>0</td>\n",
       "      <td>418</td>\n",
       "      <td>418</td>\n",
       "      <td>0</td>\n",
       "      <td>0</td>\n",
       "      <td>0</td>\n",
       "      <td>43756</td>\n",
       "      <td>43756</td>\n",
       "      <td>0</td>\n",
       "    </tr>\n",
       "    <tr>\n",
       "      <th>13619</th>\n",
       "      <td>1646893713217</td>\n",
       "      <td>Server</td>\n",
       "      <td>unknown</td>\n",
       "      <td>10.131.170.201</td>\n",
       "      <td>None</td>\n",
       "      <td>NaN</td>\n",
       "      <td>176401097</td>\n",
       "      <td>NaN</td>\n",
       "      <td>NaN</td>\n",
       "      <td>NaN</td>\n",
       "      <td>NaN</td>\n",
       "      <td>0</td>\n",
       "      <td>0</td>\n",
       "      <td>255</td>\n",
       "      <td>255</td>\n",
       "      <td>0</td>\n",
       "      <td>0</td>\n",
       "      <td>0</td>\n",
       "      <td>24458</td>\n",
       "      <td>24458</td>\n",
       "      <td>0</td>\n",
       "    </tr>\n",
       "    <tr>\n",
       "      <th>13620</th>\n",
       "      <td>1646893713217</td>\n",
       "      <td>Server</td>\n",
       "      <td>unknown</td>\n",
       "      <td>10.131.58.73</td>\n",
       "      <td>None</td>\n",
       "      <td>NaN</td>\n",
       "      <td>176372297</td>\n",
       "      <td>NaN</td>\n",
       "      <td>NaN</td>\n",
       "      <td>NaN</td>\n",
       "      <td>NaN</td>\n",
       "      <td>0</td>\n",
       "      <td>0</td>\n",
       "      <td>250</td>\n",
       "      <td>250</td>\n",
       "      <td>0</td>\n",
       "      <td>0</td>\n",
       "      <td>0</td>\n",
       "      <td>23148</td>\n",
       "      <td>23148</td>\n",
       "      <td>0</td>\n",
       "    </tr>\n",
       "    <tr>\n",
       "      <th>13621</th>\n",
       "      <td>1646893713217</td>\n",
       "      <td>Server</td>\n",
       "      <td>unknown</td>\n",
       "      <td>10.130.194.169</td>\n",
       "      <td>None</td>\n",
       "      <td>NaN</td>\n",
       "      <td>176341673</td>\n",
       "      <td>NaN</td>\n",
       "      <td>NaN</td>\n",
       "      <td>NaN</td>\n",
       "      <td>NaN</td>\n",
       "      <td>0</td>\n",
       "      <td>0</td>\n",
       "      <td>717</td>\n",
       "      <td>717</td>\n",
       "      <td>0</td>\n",
       "      <td>0</td>\n",
       "      <td>0</td>\n",
       "      <td>77546</td>\n",
       "      <td>77546</td>\n",
       "      <td>0</td>\n",
       "    </tr>\n",
       "  </tbody>\n",
       "</table>\n",
       "<p>13622 rows × 21 columns</p>\n",
       "</div>"
      ],
      "text/plain": [
       "           timestamp    type     name              ip           mac  latlon  \\\n",
       "0      1646893713217  Client     icmp  10.236.141.200  04b0e711fc18     NaN   \n",
       "1      1646893713217  Server     icmp   194.48.132.18          None     NaN   \n",
       "2      1646893713217  Client  unknown    10.110.19.88  fa163ea3e5a6     NaN   \n",
       "3      1646893713217  Client  unknown    10.115.128.2  04b0e711fc06     NaN   \n",
       "4      1646893713217  Client  unknown    10.115.128.1  04b0e711fc06     NaN   \n",
       "...              ...     ...      ...             ...           ...     ...   \n",
       "13617  1646893713217  Server  unknown    10.131.211.1          None     NaN   \n",
       "13618  1646893713217  Server  unknown  10.131.199.162          None     NaN   \n",
       "13619  1646893713217  Server  unknown  10.131.170.201          None     NaN   \n",
       "13620  1646893713217  Server  unknown    10.131.58.73          None     NaN   \n",
       "13621  1646893713217  Server  unknown  10.130.194.169          None     NaN   \n",
       "\n",
       "              ip4  ip6  lon  lat  deviceHash  incomingPkts  outgoingPkts  \\\n",
       "0       183274952  NaN  NaN  NaN         NaN             0            25   \n",
       "1     -1037007854  NaN  NaN  NaN         NaN            25             0   \n",
       "2       174986072  NaN  NaN  NaN         NaN             0             0   \n",
       "3       175341570  NaN  NaN  NaN         NaN             0             0   \n",
       "4       175341569  NaN  NaN  NaN         NaN             0             0   \n",
       "...           ...  ...  ...  ...         ...           ...           ...   \n",
       "13617   176411393  NaN  NaN  NaN         NaN             0             0   \n",
       "13618   176408482  NaN  NaN  NaN         NaN             0             0   \n",
       "13619   176401097  NaN  NaN  NaN         NaN             0             0   \n",
       "13620   176372297  NaN  NaN  NaN         NaN             0             0   \n",
       "13621   176341673  NaN  NaN  NaN         NaN             0             0   \n",
       "\n",
       "       internalPkts  totalPkts  totalExternalPkts  incomingBytes  \\\n",
       "0                 0         25                 25              0   \n",
       "1                 0         25                 25           2186   \n",
       "2           2006762    2006762                  0              0   \n",
       "3                22         22                  0              0   \n",
       "4                71         71                  0              0   \n",
       "...             ...        ...                ...            ...   \n",
       "13617           387        387                  0              0   \n",
       "13618           418        418                  0              0   \n",
       "13619           255        255                  0              0   \n",
       "13620           250        250                  0              0   \n",
       "13621           717        717                  0              0   \n",
       "\n",
       "       outgoingBytes  internalBytes  totalBytes  totalExternalBytes  \n",
       "0               2186              0        2186                2186  \n",
       "1                  0              0        2186                2186  \n",
       "2                  0      215466404   215466404                   0  \n",
       "3                  0           1484        1484                   0  \n",
       "4                  0           3879        3879                   0  \n",
       "...              ...            ...         ...                 ...  \n",
       "13617              0          43026       43026                   0  \n",
       "13618              0          43756       43756                   0  \n",
       "13619              0          24458       24458                   0  \n",
       "13620              0          23148       23148                   0  \n",
       "13621              0          77546       77546                   0  \n",
       "\n",
       "[13622 rows x 21 columns]"
      ]
     },
     "execution_count": 158,
     "metadata": {},
     "output_type": "execute_result"
    }
   ],
   "source": [
    "%%time\n",
    "df = pd.read_json(\"1646893713217-service (output from script).json\", convert_dates=False)\n",
    "df"
   ]
  },
  {
   "cell_type": "code",
   "execution_count": 64,
   "metadata": {},
   "outputs": [],
   "source": [
    "# df['timestamp'].nunique()"
   ]
  },
  {
   "cell_type": "code",
   "execution_count": 159,
   "metadata": {},
   "outputs": [],
   "source": [
    "# df['timestamp'] = pd.to_datetime(df['timestamp'], unit='ms')\n",
    "# df['timestamp'] = df['timestamp'].dt.strftime(\"%Y-%m-%d-%H:%M:%S\")\n",
    "# df['timestamp']"
   ]
  },
  {
   "cell_type": "code",
   "execution_count": 160,
   "metadata": {},
   "outputs": [],
   "source": [
    "# df.info()"
   ]
  },
  {
   "cell_type": "markdown",
   "metadata": {},
   "source": [
    "### Sending 1 message as 1 list"
   ]
  },
  {
   "cell_type": "code",
   "execution_count": 161,
   "metadata": {
    "scrolled": false
   },
   "outputs": [
    {
     "data": {
      "text/plain": [
       "\"[1646893713217, 'Client', 'icmp', '10.236.141.200', '04b0e711fc18', nan, 183274952, nan, nan, nan, nan, 0, 25, 0, 25, 25, 0, 2186, 0, 2186, 2186]\""
      ]
     },
     "execution_count": 161,
     "metadata": {},
     "output_type": "execute_result"
    }
   ],
   "source": [
    "str(df.iloc[0,:].values.tolist())  # 1 row = 1 message in a form of single list"
   ]
  },
  {
   "cell_type": "code",
   "execution_count": 67,
   "metadata": {},
   "outputs": [
    {
     "name": "stdout",
     "output_type": "stream",
     "text": [
      "dict_keys(['test_topic_1', '__consumer_offsets'])\n"
     ]
    }
   ],
   "source": [
    "import confluent_kafka.admin, pprint\n",
    "\n",
    "with open(\"config.json\") as jfile:\n",
    "        config_data = json.load(jfile)\n",
    "    \n",
    "topic_name =  config_data[\"topic_name\"]\n",
    "kafka_host = config_data[\"kafka_host\"]\n",
    "\n",
    "conf        = {'bootstrap.servers': kafka_host}\n",
    "kafka_admin = confluent_kafka.admin.AdminClient(conf)\n",
    "\n",
    "# new_topic   = confluent_kafka.admin.NewTopic('topic100', 1, 1) # Number-of-partitions  = 1\n",
    "                                                                 # Number-of-replicas    = 1\n",
    "# kafka_admin.create_topics([new_topic,]) # CREATE (a list(), so you can create multiple).\n",
    "\n",
    "topic_list = kafka_admin.list_topics().topics # LIST OUT ALL THE TOPICS\n",
    "print(topic_list.keys())"
   ]
  },
  {
   "cell_type": "code",
   "execution_count": 17,
   "metadata": {},
   "outputs": [
    {
     "data": {
      "text/plain": [
       "{'test_topic_3': <Future at 0x1ff8a015dc8 state=running>}"
      ]
     },
     "execution_count": 17,
     "metadata": {},
     "output_type": "execute_result"
    }
   ],
   "source": [
    "# kafka_admin.delete_topics(['test_topic_3',]) # DELETING A TOPIC"
   ]
  },
  {
   "cell_type": "code",
   "execution_count": 16,
   "metadata": {},
   "outputs": [
    {
     "name": "stdout",
     "output_type": "stream",
     "text": [
      "yes topic is already there !! \n"
     ]
    }
   ],
   "source": [
    "if  topic_name in list(topic_list.keys()):\n",
    "    # print('yes topic is already there !! ')\n",
    "    pass\n",
    "else:\n",
    "    new_topic   = confluent_kafka.admin.NewTopic(topic_name, 1, 1) # partitions=1, replicas=1\n",
    "    kafka_admin.create_topics([new_topic,])\n",
    "    # print(\"topic created successfully ==> \", new_topic)"
   ]
  },
  {
   "cell_type": "code",
   "execution_count": null,
   "metadata": {},
   "outputs": [],
   "source": []
  },
  {
   "cell_type": "code",
   "execution_count": null,
   "metadata": {},
   "outputs": [],
   "source": []
  },
  {
   "cell_type": "code",
   "execution_count": 140,
   "metadata": {},
   "outputs": [
    {
     "data": {
      "text/plain": [
       "1647206744000"
      ]
     },
     "execution_count": 140,
     "metadata": {},
     "output_type": "execute_result"
    }
   ],
   "source": [
    "from datetime import datetime\n",
    "int(datetime.now().timestamp()) * 1000"
   ]
  },
  {
   "cell_type": "markdown",
   "metadata": {},
   "source": [
    "# Final Function to write data to kafka"
   ]
  },
  {
   "cell_type": "code",
   "execution_count": null,
   "metadata": {},
   "outputs": [],
   "source": [
    "%%time\n",
    "# pip install confluent-kafka\n",
    "# pip install pandas\n",
    "# pip install kafka\n",
    "\n",
    "import confluent_kafka.admin, pprint\n",
    "from kafka import KafkaProducer\n",
    "import pandas as pd\n",
    "from datetime import datetime\n",
    "import json\n",
    "\n",
    "\n",
    "def write_to_kafka(filename):\n",
    "    \"\"\"Function to write the data to kafka in a proper format\"\"\"\n",
    "    \n",
    "    try:\n",
    "        with open(\"config.json\") as jfile:\n",
    "            config_data = json.load(jfile)\n",
    "\n",
    "        rewrite_timestamp = config_data[\"rewrite_timestamp\"]\n",
    "        data = pd.read_json(filename, convert_dates=False)\n",
    "\n",
    "        # IF REWRITE TIMESTAMP IS ENABLE THEN OVERWRITE TO CURRENT TIMESTAMP VALUE IN EPOCH\n",
    "        if rewrite_timestamp.lower() == 'enable':\n",
    "            data['timestamp'] = int(datetime.now().timestamp()) * 1000\n",
    "\n",
    "        # PICKING THE TOPIC NAME & SERVER DETAILS FROM JSON FILE\n",
    "        topic_name =  config_data[\"topic_name\"]\n",
    "        kafka_host = config_data[\"kafka_host\"]\n",
    "        conf = {'bootstrap.servers': kafka_host}\n",
    "\n",
    "        # MAKING KAFKA_ADMIN OBJECT USING COLFLUENT KAFKA\n",
    "        kafka_admin = confluent_kafka.admin.AdminClient(conf)\n",
    "\n",
    "        # MAKING KAFKA PRODUCER OBJECT USING KAFKA-PYTHON\n",
    "        kafkaObj = KafkaProducer(bootstrap_servers=kafka_host, api_version=(0, 10, 1))\n",
    "\n",
    "        # LIST OUT ALL THE TOPICS -- RETURN THE RESULT IN DICTIONARY FORMAT\n",
    "        topic_list = kafka_admin.list_topics().topics \n",
    "        if  topic_name in list(topic_list.keys()):\n",
    "            pass\n",
    "        else:\n",
    "            new_topic   = confluent_kafka.admin.NewTopic(topic_name, 1, 1) # partitions=1, replicas=1\n",
    "            kafka_admin.create_topics([new_topic,])\n",
    "\n",
    "        # LOOPING THROUGH THE DATAFRAME & SENDING 1 FULL ROW AS 1 LIST AS A 1 MSG\n",
    "        for idx in range(data.shape[0]):\n",
    "            prepare_message = str(data.iloc[idx,:].values.tolist())\n",
    "            kafkaObj.send(topic_name, value=prepare_message.encode('utf-8'))\n",
    "            print(prepare_message)\n",
    "\n",
    "        print(topic_name, kafka_host)\n",
    "    \n",
    "    except Exception as e:\n",
    "        import traceback\n",
    "        print(\"Error occured while writing data to kafka ===> \", str(e))\n",
    "        print(traceback.format_exc())\n",
    "\n",
    "if __name__ == '__main__':\n",
    "    \n",
    "    # CALLING THE FUNCTION -- PASSING THE FILENAME TO IT\n",
    "    write_to_kafka(filename=\"1646893713217-service (output from script).json\")"
   ]
  },
  {
   "cell_type": "markdown",
   "metadata": {},
   "source": [
    "# Consumer code to take data from kafka"
   ]
  },
  {
   "cell_type": "code",
   "execution_count": null,
   "metadata": {},
   "outputs": [],
   "source": [
    "from kafka import KafkaConsumer\n",
    "\n",
    "try:\n",
    "    topic_name = 'test_topic_1'\n",
    "    consumer = KafkaConsumer(topic_name, bootstrap_servers = ['localhost:9092'], api_version=(0, 10), consumer_timeout_ms=1000) # set consumer for limited time with the last parameter\n",
    "\n",
    "    for msg in consumer:\n",
    "        print(msg.value)\n",
    "except Exception as e:\n",
    "    print(\"Some Error occured while reading message from consumer! \")"
   ]
  },
  {
   "cell_type": "code",
   "execution_count": null,
   "metadata": {},
   "outputs": [],
   "source": []
  },
  {
   "cell_type": "code",
   "execution_count": null,
   "metadata": {},
   "outputs": [],
   "source": []
  },
  {
   "cell_type": "code",
   "execution_count": null,
   "metadata": {},
   "outputs": [],
   "source": []
  },
  {
   "cell_type": "code",
   "execution_count": null,
   "metadata": {},
   "outputs": [],
   "source": []
  },
  {
   "cell_type": "markdown",
   "metadata": {},
   "source": [
    "### Sending by each col value ... stiching col by col value under iterrows()"
   ]
  },
  {
   "cell_type": "code",
   "execution_count": 80,
   "metadata": {},
   "outputs": [
    {
     "name": "stdout",
     "output_type": "stream",
     "text": [
      "Final Message is ==>\n",
      " 2022-03-10-06:28:33, Client, icmp, 10.236.141.200, 04b0e711fc18, nan, 183274952, nan, nan, nan, nan, 0, 25, 0, 25, 25, 0, 2186, 0, 2186, 2186, \n"
     ]
    }
   ],
   "source": [
    "topic_name = 'test_topic_1'\n",
    "for index, row in df.iterrows():\n",
    "    prepare_message = ''\n",
    "    for col in df.columns:\n",
    "        prepare_message += str(row[col])+ ', '\n",
    "    print(\"Final Message is ==>\\n\" ,prepare_message)\n",
    "    \n",
    "    break"
   ]
  },
  {
   "cell_type": "code",
   "execution_count": 73,
   "metadata": {},
   "outputs": [
    {
     "name": "stdout",
     "output_type": "stream",
     "text": [
      "1646893713217, Client, icmp, 10.236.141.200, 04b0e711fc18, nan, 183274952, nan, nan, nan, nan, 0, 25, 0, 25, 25, 0, 2186, 0, 2186, 2186, \n"
     ]
    }
   ],
   "source": [
    "topic_name = 'test_topic_1'\n",
    "for index, row in df.iterrows():\n",
    "    prepare_message = ''\n",
    "    for col in df.columns:\n",
    "        prepare_message += str(row[col])+ ', '\n",
    "    print(prepare_message)\n",
    "    \n",
    "    break"
   ]
  },
  {
   "cell_type": "code",
   "execution_count": null,
   "metadata": {},
   "outputs": [],
   "source": []
  },
  {
   "cell_type": "code",
   "execution_count": null,
   "metadata": {},
   "outputs": [],
   "source": []
  },
  {
   "cell_type": "code",
   "execution_count": 37,
   "metadata": {},
   "outputs": [
    {
     "data": {
      "text/plain": [
       "'2022-03-10 06:28:33.217000'"
      ]
     },
     "execution_count": 37,
     "metadata": {},
     "output_type": "execute_result"
    }
   ],
   "source": [
    "str(row['timestamp'])"
   ]
  },
  {
   "cell_type": "code",
   "execution_count": 16,
   "metadata": {
    "scrolled": true
   },
   "outputs": [
    {
     "name": "stdout",
     "output_type": "stream",
     "text": [
      "2022-03-10 06:28:33.217000\n",
      "------------------------------\n",
      "Client\n",
      "------------------------------\n",
      "icmp\n",
      "------------------------------\n",
      "10.236.141.200\n",
      "------------------------------\n",
      "04b0e711fc18\n",
      "------------------------------\n",
      "nan\n",
      "------------------------------\n",
      "183274952\n",
      "------------------------------\n",
      "nan\n",
      "------------------------------\n",
      "nan\n",
      "------------------------------\n",
      "nan\n",
      "------------------------------\n",
      "nan\n",
      "------------------------------\n",
      "0\n",
      "------------------------------\n",
      "25\n",
      "------------------------------\n",
      "0\n",
      "------------------------------\n",
      "25\n",
      "------------------------------\n",
      "25\n",
      "------------------------------\n",
      "0\n",
      "------------------------------\n",
      "2186\n",
      "------------------------------\n",
      "0\n",
      "------------------------------\n",
      "2186\n",
      "------------------------------\n",
      "2186\n",
      "------------------------------\n"
     ]
    }
   ],
   "source": [
    "for col in df.columns:\n",
    "    print(row[col])\n",
    "    print('--'*15)"
   ]
  },
  {
   "cell_type": "code",
   "execution_count": null,
   "metadata": {},
   "outputs": [],
   "source": []
  }
 ],
 "metadata": {
  "kernelspec": {
   "display_name": "Python 3",
   "language": "python",
   "name": "python3"
  },
  "language_info": {
   "codemirror_mode": {
    "name": "ipython",
    "version": 3
   },
   "file_extension": ".py",
   "mimetype": "text/x-python",
   "name": "python",
   "nbconvert_exporter": "python",
   "pygments_lexer": "ipython3",
   "version": "3.7.11"
  }
 },
 "nbformat": 4,
 "nbformat_minor": 4
}
